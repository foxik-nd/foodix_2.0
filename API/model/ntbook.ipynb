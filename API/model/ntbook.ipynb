{
  "nbformat": 4,
  "nbformat_minor": 0,
  "metadata": {
    "colab": {
      "provenance": []
    },
    "kernelspec": {
      "name": "python3",
      "display_name": "Python 3"
    },
    "language_info": {
      "name": "python"
    }
  },
  "cells": [
    {
      "cell_type": "code",
      "source": [
        "import pandas as pd\n",
        "import numpy as np\n",
        "import random\n",
        "import pickle\n",
        "import matplotlib.pyplot as plt\n",
        "import seaborn as sns\n",
        "from sklearn.feature_extraction.text import TfidfVectorizer\n",
        "from sklearn.metrics.pairwise import cosine_similarity\n",
        "from scipy import sparse"
      ],
      "metadata": {
        "id": "hUIO1myJNJq-"
      },
      "execution_count": 51,
      "outputs": []
    },
    {
      "cell_type": "markdown",
      "source": [
        "**Data Loading (OpenFoodFacts)**\n"
      ],
      "metadata": {
        "id": "lO9sMYODLpry"
      }
    },
    {
      "cell_type": "code",
      "execution_count": 3,
      "metadata": {
        "id": "i3iQ7GPjLeyc"
      },
      "outputs": [],
      "source": [
        "#url = \"https://static.openfoodfacts.org/data/en.openfoodfacts.org.products.csv.gz\"\n",
        "#df = pd.read_csv(url, compression='gzip', sep='\\t', low_memory=False, nrows=100000)\n",
        "\n"
      ]
    },
    {
      "cell_type": "code",
      "source": [
        "url = \"https://static.openfoodfacts.org/data/en.openfoodfacts.org.products.csv.gz\"\n",
        "\n",
        "df = pd.read_csv(url, compression='gzip', sep='\\t', low_memory=False, nrows=300000)\n",
        "\n",
        "df = df[['code', 'product_name', 'brands', 'categories', 'nutriscore_grade', 'nova_group', 'ingredients_text']]\n",
        "\n",
        "print(\"Valeurs uniques dans nutriscore_grade :\")\n",
        "print(df['nutriscore_grade'].value_counts(dropna=False))\n",
        "\n",
        "print(\"\\n Valeurs uniques dans nova_group :\")\n",
        "print(df['nova_group'].value_counts(dropna=False))\n"
      ],
      "metadata": {
        "colab": {
          "base_uri": "https://localhost:8080/"
        },
        "id": "JwRNtp1TqKwH",
        "outputId": "e67af4d7-767c-409e-a4c5-00d4029b9a55"
      },
      "execution_count": 16,
      "outputs": [
        {
          "output_type": "stream",
          "name": "stdout",
          "text": [
            "🔍 Valeurs uniques dans nutriscore_grade :\n",
            "nutriscore_grade\n",
            "unknown           151091\n",
            "e                  49331\n",
            "d                  33581\n",
            "a                  24415\n",
            "c                  24339\n",
            "b                  13737\n",
            "not-applicable      2589\n",
            "NaN                  917\n",
            "Name: count, dtype: int64\n",
            "\n",
            "🔍 Valeurs uniques dans nova_group :\n",
            "nova_group\n",
            "NaN    144276\n",
            "4.0    111506\n",
            "3.0     24984\n",
            "1.0     15962\n",
            "2.0      3272\n",
            "Name: count, dtype: int64\n"
          ]
        }
      ]
    },
    {
      "cell_type": "code",
      "source": [
        "df.head()"
      ],
      "metadata": {
        "colab": {
          "base_uri": "https://localhost:8080/",
          "height": 310
        },
        "id": "FQ9P2s1zN3mo",
        "outputId": "6561e7e8-a487-436d-d00e-916802daa738"
      },
      "execution_count": 17,
      "outputs": [
        {
          "output_type": "execute_result",
          "data": {
            "text/plain": [
              "   code                          product_name          brands  \\\n",
              "0    54         Limonade artisanale a la rose             NaN   \n",
              "1    63                        CIABATTA OLIVE           EDEKA   \n",
              "2   114                         Chocolate n 3  Jeff de Bruges   \n",
              "3     1                Protein Coffee Caramem         Bodylab   \n",
              "4   105  Paleta gran reserva - Sierra nevada-        AdvoCare   \n",
              "\n",
              "                                    categories nutriscore_grade  nova_group  \\\n",
              "0                                          NaN          unknown         NaN   \n",
              "1                                          NaN          unknown         NaN   \n",
              "2                                          NaN          unknown         NaN   \n",
              "3                                           za          unknown         4.0   \n",
              "4  Bebidas y preparaciones de bebidas, Bebidas          unknown         4.0   \n",
              "\n",
              "                                    ingredients_text  \n",
              "0                                                NaN  \n",
              "1  Weizenmehl, Rapsöl, Speisesalz, 1,7% Meersalz,...  \n",
              "2                                                NaN  \n",
              "3  beef gelatin, glycerin, water, natural lemon f...  \n",
              "4  Thiamin, Biotin, Chromium, Garcinia cambogia f...  "
            ],
            "text/html": [
              "\n",
              "  <div id=\"df-8b5350f8-32de-4272-8551-ffff2134c424\" class=\"colab-df-container\">\n",
              "    <div>\n",
              "<style scoped>\n",
              "    .dataframe tbody tr th:only-of-type {\n",
              "        vertical-align: middle;\n",
              "    }\n",
              "\n",
              "    .dataframe tbody tr th {\n",
              "        vertical-align: top;\n",
              "    }\n",
              "\n",
              "    .dataframe thead th {\n",
              "        text-align: right;\n",
              "    }\n",
              "</style>\n",
              "<table border=\"1\" class=\"dataframe\">\n",
              "  <thead>\n",
              "    <tr style=\"text-align: right;\">\n",
              "      <th></th>\n",
              "      <th>code</th>\n",
              "      <th>product_name</th>\n",
              "      <th>brands</th>\n",
              "      <th>categories</th>\n",
              "      <th>nutriscore_grade</th>\n",
              "      <th>nova_group</th>\n",
              "      <th>ingredients_text</th>\n",
              "    </tr>\n",
              "  </thead>\n",
              "  <tbody>\n",
              "    <tr>\n",
              "      <th>0</th>\n",
              "      <td>54</td>\n",
              "      <td>Limonade artisanale a la rose</td>\n",
              "      <td>NaN</td>\n",
              "      <td>NaN</td>\n",
              "      <td>unknown</td>\n",
              "      <td>NaN</td>\n",
              "      <td>NaN</td>\n",
              "    </tr>\n",
              "    <tr>\n",
              "      <th>1</th>\n",
              "      <td>63</td>\n",
              "      <td>CIABATTA OLIVE</td>\n",
              "      <td>EDEKA</td>\n",
              "      <td>NaN</td>\n",
              "      <td>unknown</td>\n",
              "      <td>NaN</td>\n",
              "      <td>Weizenmehl, Rapsöl, Speisesalz, 1,7% Meersalz,...</td>\n",
              "    </tr>\n",
              "    <tr>\n",
              "      <th>2</th>\n",
              "      <td>114</td>\n",
              "      <td>Chocolate n 3</td>\n",
              "      <td>Jeff de Bruges</td>\n",
              "      <td>NaN</td>\n",
              "      <td>unknown</td>\n",
              "      <td>NaN</td>\n",
              "      <td>NaN</td>\n",
              "    </tr>\n",
              "    <tr>\n",
              "      <th>3</th>\n",
              "      <td>1</td>\n",
              "      <td>Protein Coffee Caramem</td>\n",
              "      <td>Bodylab</td>\n",
              "      <td>za</td>\n",
              "      <td>unknown</td>\n",
              "      <td>4.0</td>\n",
              "      <td>beef gelatin, glycerin, water, natural lemon f...</td>\n",
              "    </tr>\n",
              "    <tr>\n",
              "      <th>4</th>\n",
              "      <td>105</td>\n",
              "      <td>Paleta gran reserva - Sierra nevada-</td>\n",
              "      <td>AdvoCare</td>\n",
              "      <td>Bebidas y preparaciones de bebidas, Bebidas</td>\n",
              "      <td>unknown</td>\n",
              "      <td>4.0</td>\n",
              "      <td>Thiamin, Biotin, Chromium, Garcinia cambogia f...</td>\n",
              "    </tr>\n",
              "  </tbody>\n",
              "</table>\n",
              "</div>\n",
              "    <div class=\"colab-df-buttons\">\n",
              "\n",
              "  <div class=\"colab-df-container\">\n",
              "    <button class=\"colab-df-convert\" onclick=\"convertToInteractive('df-8b5350f8-32de-4272-8551-ffff2134c424')\"\n",
              "            title=\"Convert this dataframe to an interactive table.\"\n",
              "            style=\"display:none;\">\n",
              "\n",
              "  <svg xmlns=\"http://www.w3.org/2000/svg\" height=\"24px\" viewBox=\"0 -960 960 960\">\n",
              "    <path d=\"M120-120v-720h720v720H120Zm60-500h600v-160H180v160Zm220 220h160v-160H400v160Zm0 220h160v-160H400v160ZM180-400h160v-160H180v160Zm440 0h160v-160H620v160ZM180-180h160v-160H180v160Zm440 0h160v-160H620v160Z\"/>\n",
              "  </svg>\n",
              "    </button>\n",
              "\n",
              "  <style>\n",
              "    .colab-df-container {\n",
              "      display:flex;\n",
              "      gap: 12px;\n",
              "    }\n",
              "\n",
              "    .colab-df-convert {\n",
              "      background-color: #E8F0FE;\n",
              "      border: none;\n",
              "      border-radius: 50%;\n",
              "      cursor: pointer;\n",
              "      display: none;\n",
              "      fill: #1967D2;\n",
              "      height: 32px;\n",
              "      padding: 0 0 0 0;\n",
              "      width: 32px;\n",
              "    }\n",
              "\n",
              "    .colab-df-convert:hover {\n",
              "      background-color: #E2EBFA;\n",
              "      box-shadow: 0px 1px 2px rgba(60, 64, 67, 0.3), 0px 1px 3px 1px rgba(60, 64, 67, 0.15);\n",
              "      fill: #174EA6;\n",
              "    }\n",
              "\n",
              "    .colab-df-buttons div {\n",
              "      margin-bottom: 4px;\n",
              "    }\n",
              "\n",
              "    [theme=dark] .colab-df-convert {\n",
              "      background-color: #3B4455;\n",
              "      fill: #D2E3FC;\n",
              "    }\n",
              "\n",
              "    [theme=dark] .colab-df-convert:hover {\n",
              "      background-color: #434B5C;\n",
              "      box-shadow: 0px 1px 3px 1px rgba(0, 0, 0, 0.15);\n",
              "      filter: drop-shadow(0px 1px 2px rgba(0, 0, 0, 0.3));\n",
              "      fill: #FFFFFF;\n",
              "    }\n",
              "  </style>\n",
              "\n",
              "    <script>\n",
              "      const buttonEl =\n",
              "        document.querySelector('#df-8b5350f8-32de-4272-8551-ffff2134c424 button.colab-df-convert');\n",
              "      buttonEl.style.display =\n",
              "        google.colab.kernel.accessAllowed ? 'block' : 'none';\n",
              "\n",
              "      async function convertToInteractive(key) {\n",
              "        const element = document.querySelector('#df-8b5350f8-32de-4272-8551-ffff2134c424');\n",
              "        const dataTable =\n",
              "          await google.colab.kernel.invokeFunction('convertToInteractive',\n",
              "                                                    [key], {});\n",
              "        if (!dataTable) return;\n",
              "\n",
              "        const docLinkHtml = 'Like what you see? Visit the ' +\n",
              "          '<a target=\"_blank\" href=https://colab.research.google.com/notebooks/data_table.ipynb>data table notebook</a>'\n",
              "          + ' to learn more about interactive tables.';\n",
              "        element.innerHTML = '';\n",
              "        dataTable['output_type'] = 'display_data';\n",
              "        await google.colab.output.renderOutput(dataTable, element);\n",
              "        const docLink = document.createElement('div');\n",
              "        docLink.innerHTML = docLinkHtml;\n",
              "        element.appendChild(docLink);\n",
              "      }\n",
              "    </script>\n",
              "  </div>\n",
              "\n",
              "\n",
              "    <div id=\"df-ab84d3c4-ea08-4afb-8487-b5d3a8e11c6e\">\n",
              "      <button class=\"colab-df-quickchart\" onclick=\"quickchart('df-ab84d3c4-ea08-4afb-8487-b5d3a8e11c6e')\"\n",
              "                title=\"Suggest charts\"\n",
              "                style=\"display:none;\">\n",
              "\n",
              "<svg xmlns=\"http://www.w3.org/2000/svg\" height=\"24px\"viewBox=\"0 0 24 24\"\n",
              "     width=\"24px\">\n",
              "    <g>\n",
              "        <path d=\"M19 3H5c-1.1 0-2 .9-2 2v14c0 1.1.9 2 2 2h14c1.1 0 2-.9 2-2V5c0-1.1-.9-2-2-2zM9 17H7v-7h2v7zm4 0h-2V7h2v10zm4 0h-2v-4h2v4z\"/>\n",
              "    </g>\n",
              "</svg>\n",
              "      </button>\n",
              "\n",
              "<style>\n",
              "  .colab-df-quickchart {\n",
              "      --bg-color: #E8F0FE;\n",
              "      --fill-color: #1967D2;\n",
              "      --hover-bg-color: #E2EBFA;\n",
              "      --hover-fill-color: #174EA6;\n",
              "      --disabled-fill-color: #AAA;\n",
              "      --disabled-bg-color: #DDD;\n",
              "  }\n",
              "\n",
              "  [theme=dark] .colab-df-quickchart {\n",
              "      --bg-color: #3B4455;\n",
              "      --fill-color: #D2E3FC;\n",
              "      --hover-bg-color: #434B5C;\n",
              "      --hover-fill-color: #FFFFFF;\n",
              "      --disabled-bg-color: #3B4455;\n",
              "      --disabled-fill-color: #666;\n",
              "  }\n",
              "\n",
              "  .colab-df-quickchart {\n",
              "    background-color: var(--bg-color);\n",
              "    border: none;\n",
              "    border-radius: 50%;\n",
              "    cursor: pointer;\n",
              "    display: none;\n",
              "    fill: var(--fill-color);\n",
              "    height: 32px;\n",
              "    padding: 0;\n",
              "    width: 32px;\n",
              "  }\n",
              "\n",
              "  .colab-df-quickchart:hover {\n",
              "    background-color: var(--hover-bg-color);\n",
              "    box-shadow: 0 1px 2px rgba(60, 64, 67, 0.3), 0 1px 3px 1px rgba(60, 64, 67, 0.15);\n",
              "    fill: var(--button-hover-fill-color);\n",
              "  }\n",
              "\n",
              "  .colab-df-quickchart-complete:disabled,\n",
              "  .colab-df-quickchart-complete:disabled:hover {\n",
              "    background-color: var(--disabled-bg-color);\n",
              "    fill: var(--disabled-fill-color);\n",
              "    box-shadow: none;\n",
              "  }\n",
              "\n",
              "  .colab-df-spinner {\n",
              "    border: 2px solid var(--fill-color);\n",
              "    border-color: transparent;\n",
              "    border-bottom-color: var(--fill-color);\n",
              "    animation:\n",
              "      spin 1s steps(1) infinite;\n",
              "  }\n",
              "\n",
              "  @keyframes spin {\n",
              "    0% {\n",
              "      border-color: transparent;\n",
              "      border-bottom-color: var(--fill-color);\n",
              "      border-left-color: var(--fill-color);\n",
              "    }\n",
              "    20% {\n",
              "      border-color: transparent;\n",
              "      border-left-color: var(--fill-color);\n",
              "      border-top-color: var(--fill-color);\n",
              "    }\n",
              "    30% {\n",
              "      border-color: transparent;\n",
              "      border-left-color: var(--fill-color);\n",
              "      border-top-color: var(--fill-color);\n",
              "      border-right-color: var(--fill-color);\n",
              "    }\n",
              "    40% {\n",
              "      border-color: transparent;\n",
              "      border-right-color: var(--fill-color);\n",
              "      border-top-color: var(--fill-color);\n",
              "    }\n",
              "    60% {\n",
              "      border-color: transparent;\n",
              "      border-right-color: var(--fill-color);\n",
              "    }\n",
              "    80% {\n",
              "      border-color: transparent;\n",
              "      border-right-color: var(--fill-color);\n",
              "      border-bottom-color: var(--fill-color);\n",
              "    }\n",
              "    90% {\n",
              "      border-color: transparent;\n",
              "      border-bottom-color: var(--fill-color);\n",
              "    }\n",
              "  }\n",
              "</style>\n",
              "\n",
              "      <script>\n",
              "        async function quickchart(key) {\n",
              "          const quickchartButtonEl =\n",
              "            document.querySelector('#' + key + ' button');\n",
              "          quickchartButtonEl.disabled = true;  // To prevent multiple clicks.\n",
              "          quickchartButtonEl.classList.add('colab-df-spinner');\n",
              "          try {\n",
              "            const charts = await google.colab.kernel.invokeFunction(\n",
              "                'suggestCharts', [key], {});\n",
              "          } catch (error) {\n",
              "            console.error('Error during call to suggestCharts:', error);\n",
              "          }\n",
              "          quickchartButtonEl.classList.remove('colab-df-spinner');\n",
              "          quickchartButtonEl.classList.add('colab-df-quickchart-complete');\n",
              "        }\n",
              "        (() => {\n",
              "          let quickchartButtonEl =\n",
              "            document.querySelector('#df-ab84d3c4-ea08-4afb-8487-b5d3a8e11c6e button');\n",
              "          quickchartButtonEl.style.display =\n",
              "            google.colab.kernel.accessAllowed ? 'block' : 'none';\n",
              "        })();\n",
              "      </script>\n",
              "    </div>\n",
              "\n",
              "    </div>\n",
              "  </div>\n"
            ],
            "application/vnd.google.colaboratory.intrinsic+json": {
              "type": "dataframe",
              "variable_name": "df"
            }
          },
          "metadata": {},
          "execution_count": 17
        }
      ]
    },
    {
      "cell_type": "code",
      "source": [
        "df = df.dropna(subset=['product_name', 'categories', 'nutriscore_grade', 'nova_group'])\n",
        "\n",
        "valid_nutriscores = ['a', 'b', 'c', 'd', 'e']\n",
        "df = df[df['nutriscore_grade'].str.lower().isin(valid_nutriscores)]\n",
        "\n",
        "\n",
        "df['nova_group'] = df['nova_group'].astype(float).astype(int)\n",
        "df = df[df['nova_group'].isin([1, 2, 3, 4])]\n",
        "\n",
        "\n",
        "df['nutriscore_grade'] = df['nutriscore_grade'].str.lower().str.strip()\n",
        "df['categories'] = df['categories'].str.lower()\n",
        "df['product_name'] = df['product_name'].str.strip()\n",
        "\n",
        "\n",
        "df = df.drop_duplicates(subset=['code'])\n",
        "\n",
        "\n",
        "df = df[~df['product_name'].str.lower().isin(['product', 'unknown', 'no name'])]"
      ],
      "metadata": {
        "id": "kjScnDOXrIW3"
      },
      "execution_count": 19,
      "outputs": []
    },
    {
      "cell_type": "code",
      "source": [
        "print(f\" Nombre de produits finaux : {len(df)}\")\n",
        "print(\" NutriScore distribution :\")\n",
        "print(df['nutriscore_grade'].value_counts())\n",
        "print(\"\\n NOVA distribution :\")\n",
        "print(df['nova_group'].value_counts())"
      ],
      "metadata": {
        "colab": {
          "base_uri": "https://localhost:8080/"
        },
        "id": "BuDmxqTYr75I",
        "outputId": "dd8408ca-b64f-4058-d91e-607be16246d2"
      },
      "execution_count": 20,
      "outputs": [
        {
          "output_type": "stream",
          "name": "stdout",
          "text": [
            " Nombre de produits finaux : 129056\n",
            " NutriScore distribution :\n",
            "nutriscore_grade\n",
            "e    44746\n",
            "d    29779\n",
            "c    21368\n",
            "a    21351\n",
            "b    11812\n",
            "Name: count, dtype: int64\n",
            "\n",
            " NOVA distribution :\n",
            "nova_group\n",
            "4    89839\n",
            "3    22712\n",
            "1    14126\n",
            "2     2379\n",
            "Name: count, dtype: int64\n"
          ]
        }
      ]
    },
    {
      "cell_type": "code",
      "source": [
        "#df = df.drop_duplicates(subset=['code'])"
      ],
      "metadata": {
        "id": "3zIO7HdjpV6-"
      },
      "execution_count": 12,
      "outputs": []
    },
    {
      "cell_type": "markdown",
      "source": [
        "**Feature engineering**"
      ],
      "metadata": {
        "id": "v5KtjYpVs3g6"
      }
    },
    {
      "cell_type": "code",
      "source": [
        "# Colors\n",
        "def get_nutri_nova_color(nutriscore, nova):\n",
        "    if nutriscore in ['a', 'b'] and nova in [1, 2]:\n",
        "        return 'green'\n",
        "    elif nutriscore == 'c' or nova == 3:\n",
        "        return 'orange'\n",
        "    else:\n",
        "        return 'red'\n",
        "df['color'] = df.apply(lambda row: get_nutri_nova_color(row['nutriscore_grade'], row['nova_group']), axis=1)\n"
      ],
      "metadata": {
        "id": "eo7UJS9Bs_Y7"
      },
      "execution_count": 21,
      "outputs": []
    },
    {
      "cell_type": "code",
      "source": [
        "print(\"Répartition des couleurs nutritionnelles :\")\n",
        "print(df['color'].value_counts())\n"
      ],
      "metadata": {
        "colab": {
          "base_uri": "https://localhost:8080/"
        },
        "id": "pA86X1sxttTH",
        "outputId": "1bc1b65d-926f-40ce-f013-6916971c1901"
      },
      "execution_count": 22,
      "outputs": [
        {
          "output_type": "stream",
          "name": "stdout",
          "text": [
            "Répartition des couleurs nutritionnelles :\n",
            "color\n",
            "red       77448\n",
            "orange    40316\n",
            "green     11292\n",
            "Name: count, dtype: int64\n"
          ]
        }
      ]
    },
    {
      "cell_type": "markdown",
      "source": [
        "**testing a scanned product**"
      ],
      "metadata": {
        "id": "Q2e9YW4pucFx"
      }
    },
    {
      "cell_type": "code",
      "source": [
        "# simulation de scan coca light\n",
        "\n",
        "barcode = '5449000000996'  # Coca-Cola Light\n",
        "product = df[df['code'] == int(barcode)]\n",
        "\n",
        "if not product.empty:\n",
        "    row = product.iloc[0]\n",
        "    print(\" produit scanné :\", row['product_name'])\n",
        "    print(\" marque :\", row['brands'])\n",
        "    print(\" catégories :\", row['categories'])\n",
        "    print(\" nutriScore :\", row['nutriscore_grade'].upper())\n",
        "    print(\"NOVA :\", row['nova_group'])\n",
        "    print(\"Couleur attribuée :\", row['color'])\n",
        "else:\n",
        "    print(\" product not found in the dataset\")\n"
      ],
      "metadata": {
        "colab": {
          "base_uri": "https://localhost:8080/"
        },
        "id": "n_9TibdnuxxA",
        "outputId": "62742175-d13c-47d7-c237-56ac1080b3b6"
      },
      "execution_count": 25,
      "outputs": [
        {
          "output_type": "stream",
          "name": "stdout",
          "text": [
            " product not found in the dataset\n"
          ]
        }
      ]
    },
    {
      "cell_type": "code",
      "source": [
        "# random product\n",
        "random_product = df.sample(1).iloc[0]\n",
        "\n",
        "print(\"produit scanné :\", random_product['product_name'])\n",
        "print(\"marque :\", random_product['brands'])\n",
        "print(\"catégories :\", random_product['categories'])\n",
        "print(\"NutriScore :\", random_product['nutriscore_grade'].upper())\n",
        "print(\"NOVA :\", random_product['nova_group'])\n",
        "print(\"Couleur attribuée :\", random_product['color'])\n",
        "\n",
        "\n",
        ""
      ],
      "metadata": {
        "colab": {
          "base_uri": "https://localhost:8080/"
        },
        "id": "-QLVVPSowobS",
        "outputId": "fc976ee7-4957-419c-ae3f-cd5c6bf9612f"
      },
      "execution_count": 36,
      "outputs": [
        {
          "output_type": "stream",
          "name": "stdout",
          "text": [
            "produit scanné : Ripe Plantains Maduros\n",
            "marque : Goya\n",
            "catégories : undefined\n",
            "NutriScore : C\n",
            "NOVA : 3\n",
            "Couleur attribuée : orange\n"
          ]
        }
      ]
    },
    {
      "cell_type": "code",
      "source": [
        "# random product forcing a category\n",
        "\n",
        "while True:\n",
        "    random_product = df.sample(1).iloc[0]\n",
        "    if (\n",
        "        pd.notna(random_product['categories']) and\n",
        "        len(random_product['categories'].split(',')) >= 1 and\n",
        "        random_product['color'] == 'red'\n",
        "    ):\n",
        "        break\n",
        "\n",
        "print(\"produit scanné :\", random_product['product_name'])\n",
        "print(\"marque :\", random_product['brands'])\n",
        "print(\"catégories :\", random_product['categories'])\n",
        "print(\"nutriScore :\", random_product['nutriscore_grade'].upper())\n",
        "print(\"NOVA :\", random_product['nova_group'])\n",
        "print(\"couleur attribuée :\", random_product['color'])\n"
      ],
      "metadata": {
        "colab": {
          "base_uri": "https://localhost:8080/"
        },
        "id": "KXAtCXpJxb0w",
        "outputId": "ca49dd6f-b8f5-49b9-b28c-38b62b63a73c"
      },
      "execution_count": 37,
      "outputs": [
        {
          "output_type": "stream",
          "name": "stdout",
          "text": [
            "produit scanné : Spartan, cranberry grape, 100% juice\n",
            "marque : Spartan\n",
            "catégories : plant-based foods and beverages, beverages, plant-based beverages\n",
            "nutriScore : D\n",
            "NOVA : 4\n",
            "couleur attribuée : red\n"
          ]
        }
      ]
    },
    {
      "cell_type": "markdown",
      "source": [
        "**Fonction de recommandation**"
      ],
      "metadata": {
        "id": "wDZYnJU2x6sB"
      }
    },
    {
      "cell_type": "code",
      "source": [
        "def recommend_better_product(input_product, df):\n",
        "    category_list = input_product['categories'].split(',')\n",
        "    if not category_list:\n",
        "        return None\n",
        "\n",
        "    main_category = category_list[0].strip()\n",
        "\n",
        "    same_category = df[df['categories'].str.contains(main_category, na=False)]\n",
        "    better_products = same_category[same_category['color'] == 'green']\n",
        "\n",
        "    if not better_products.empty:\n",
        "        return better_products.sample(1).iloc[0]\n",
        "    else:\n",
        "        return None\n"
      ],
      "metadata": {
        "id": "uSaOygcwyBt8"
      },
      "execution_count": 39,
      "outputs": []
    },
    {
      "cell_type": "code",
      "source": [
        "# test\n",
        "\n",
        "if random_product['color'] == 'red':\n",
        "    recommendation = recommend_better_product(random_product, df)\n",
        "    if recommendation is not None:\n",
        "        print(\"\\n recommanded product :\")\n",
        "        print(\" name :\", recommendation['product_name'])\n",
        "        print(\"brand :\", recommendation['brands'])\n",
        "        print(\"category :\", recommendation['categories'])\n",
        "        print(\" NutriScore :\", recommendation['nutriscore_grade'].upper())\n",
        "        print(\"NOVA :\", recommendation['nova_group'])\n",
        "        print(\" Couleur attribuée :\", recommendation['color'])\n",
        "    else:\n",
        "        print(\"\\n NO BETTER PRODUCTS FOUND\")\n",
        "\n"
      ],
      "metadata": {
        "colab": {
          "base_uri": "https://localhost:8080/"
        },
        "id": "0Zlk-OfXzTs9",
        "outputId": "1850d932-820e-4b9f-8cb3-40a81d94057b"
      },
      "execution_count": 40,
      "outputs": [
        {
          "output_type": "stream",
          "name": "stdout",
          "text": [
            "\n",
            " recommanded product :\n",
            " name : Mango chunks\n",
            "brand : nan\n",
            "category : plant-based foods and beverages, plant-based foods, fruits and vegetables based foods, fruits based foods\n",
            " NutriScore : A\n",
            "NOVA : 1\n",
            " Couleur attribuée : green\n"
          ]
        }
      ]
    },
    {
      "cell_type": "markdown",
      "source": [
        "**recommandation model based on the product's name**"
      ],
      "metadata": {
        "id": "VvD3Myfo2QuN"
      }
    },
    {
      "cell_type": "code",
      "source": [
        "green_df = df[df['color'] == 'green'].reset_index(drop=True)\n",
        "\n",
        "vectorizer = TfidfVectorizer(stop_words='english')\n",
        "green_vectors = vectorizer.fit_transform(green_df['product_name'])"
      ],
      "metadata": {
        "id": "yKQqYagZ2y8v"
      },
      "execution_count": 42,
      "outputs": []
    },
    {
      "cell_type": "code",
      "source": [
        "def recommend_similar_product(model_product_name):\n",
        "    query_vec = vectorizer.transform([model_product_name])\n",
        "    similarities = cosine_similarity(query_vec, green_vectors)\n",
        "    best_match_idx = similarities.argmax()\n",
        "\n",
        "    return green_df.iloc[best_match_idx]\n"
      ],
      "metadata": {
        "id": "DMnxfGOV26db"
      },
      "execution_count": 43,
      "outputs": []
    },
    {
      "cell_type": "code",
      "source": [
        "def show_top_similar_products(model_product_name, top_n=5):\n",
        "    query_vec = vectorizer.transform([model_product_name])\n",
        "    similarities = cosine_similarity(query_vec, green_vectors).flatten()\n",
        "    top_indices = similarities.argsort()[::-1][:top_n]\n",
        "    top_scores = similarities[top_indices]\n",
        "    top_products = green_df.iloc[top_indices]\n",
        "\n",
        "    plt.figure(figsize=(10, 5))\n",
        "    sns.barplot(x=top_scores, y=top_products['product_name'], palette='Greens_d')\n",
        "    plt.xlabel('Similarité')\n",
        "    plt.ylabel('Produit recommandé')\n",
        "    plt.title(f'Top {top_n} recommandations pour : \"{model_product_name}\"')\n",
        "    plt.xlim(0, 1)\n",
        "    plt.show()\n"
      ],
      "metadata": {
        "id": "THTi1BIH34UE"
      },
      "execution_count": 45,
      "outputs": []
    },
    {
      "cell_type": "code",
      "source": [
        "if random_product['color'] == 'red':\n",
        "    print(\"\\n utilisation du modèle de reco basé sur le nom\")\n",
        "    recommendation = recommend_similar_product(random_product['product_name'])\n",
        "\n",
        "    print(\"\\n Produit recommandé :\")\n",
        "    print(\"Nom :\", recommendation['product_name'])\n",
        "    print(\"Marque :\", recommendation['brands'])\n",
        "    print(\"Catégories :\", recommendation['categories'])\n",
        "    print(\"NutriScore :\", recommendation['nutriscore_grade'].upper())\n",
        "    print(\"NOVA :\", recommendation['nova_group'])\n",
        "    print(\" Couleur attribuée :\", recommendation['color'])\n"
      ],
      "metadata": {
        "colab": {
          "base_uri": "https://localhost:8080/"
        },
        "id": "Amvl1vbc3K61",
        "outputId": "33741820-5fcd-4a9b-b04e-4b6cf81f88f9"
      },
      "execution_count": 44,
      "outputs": [
        {
          "output_type": "stream",
          "name": "stdout",
          "text": [
            "\n",
            " utilisation du modèle de reco basé sur le nom\n",
            "\n",
            " Produit recommandé :\n",
            "Nom : 100% cranberry juice\n",
            "Marque : Langer Juice Company  Inc.\n",
            "Catégories : plant-based foods and beverages, beverages, plant-based beverages\n",
            "NutriScore : B\n",
            "NOVA : 1\n",
            " Couleur attribuée : green\n"
          ]
        }
      ]
    },
    {
      "cell_type": "code",
      "source": [
        "show_top_similar_products(random_product['product_name'], top_n=5)"
      ],
      "metadata": {
        "colab": {
          "base_uri": "https://localhost:8080/",
          "height": 596
        },
        "id": "E0-5J6tq4Nu9",
        "outputId": "618704fc-0bed-4737-a61e-d30cd229f91d"
      },
      "execution_count": 46,
      "outputs": [
        {
          "output_type": "stream",
          "name": "stderr",
          "text": [
            "<ipython-input-45-2218365517>:9: FutureWarning: \n",
            "\n",
            "Passing `palette` without assigning `hue` is deprecated and will be removed in v0.14.0. Assign the `y` variable to `hue` and set `legend=False` for the same effect.\n",
            "\n",
            "  sns.barplot(x=top_scores, y=top_products['product_name'], palette='Greens_d')\n"
          ]
        },
        {
          "output_type": "display_data",
          "data": {
            "text/plain": [
              "<Figure size 1000x500 with 1 Axes>"
            ],
            "image/png": "[encoded data removed]"
          },
          "metadata": {}
        }
      ]
    },
    {
      "cell_type": "code",
      "source": [
        "# export vectorizer\n",
        "with open('vectorizer.pkl', 'wb') as f:\n",
        "    pickle.dump(vectorizer, f)"
      ],
      "metadata": {
        "id": "5IAAnwUR5KsU"
      },
      "execution_count": 48,
      "outputs": []
    },
    {
      "cell_type": "code",
      "source": [
        "from google.colab import files\n",
        "files.download('vectorizer.pkl')"
      ],
      "metadata": {
        "colab": {
          "base_uri": "https://localhost:8080/",
          "height": 17
        },
        "id": "_CJtbUi55e-m",
        "outputId": "53e5d095-9452-42c4-f3a3-774aa4d446ef"
      },
      "execution_count": 49,
      "outputs": [
        {
          "output_type": "display_data",
          "data": {
            "text/plain": [
              "<IPython.core.display.Javascript object>"
            ],
            "application/javascript": [
              "\n",
              "    async function download(id, filename, size) {\n",
              "      if (!google.colab.kernel.accessAllowed) {\n",
              "        return;\n",
              "      }\n",
              "      const div = document.createElement('div');\n",
              "      const label = document.createElement('label');\n",
              "      label.textContent = `Downloading \"${filename}\": `;\n",
              "      div.appendChild(label);\n",
              "      const progress = document.createElement('progress');\n",
              "      progress.max = size;\n",
              "      div.appendChild(progress);\n",
              "      document.body.appendChild(div);\n",
              "\n",
              "      const buffers = [];\n",
              "      let downloaded = 0;\n",
              "\n",
              "      const channel = await google.colab.kernel.comms.open(id);\n",
              "      // Send a message to notify the kernel that we're ready.\n",
              "      channel.send({})\n",
              "\n",
              "      for await (const message of channel.messages) {\n",
              "        // Send a message to notify the kernel that we're ready.\n",
              "        channel.send({})\n",
              "        if (message.buffers) {\n",
              "          for (const buffer of message.buffers) {\n",
              "            buffers.push(buffer);\n",
              "            downloaded += buffer.byteLength;\n",
              "            progress.value = downloaded;\n",
              "          }\n",
              "        }\n",
              "      }\n",
              "      const blob = new Blob(buffers, {type: 'application/binary'});\n",
              "      const a = document.createElement('a');\n",
              "      a.href = window.URL.createObjectURL(blob);\n",
              "      a.download = filename;\n",
              "      div.appendChild(a);\n",
              "      a.click();\n",
              "      div.remove();\n",
              "    }\n",
              "  "
            ]
          },
          "metadata": {}
        },
        {
          "output_type": "display_data",
          "data": {
            "text/plain": [
              "<IPython.core.display.Javascript object>"
            ],
            "application/javascript": [
              "download(\"download_a661856f-eff7-4053-b62f-f07c7c51aded\", \"vectorizer.pkl\", 53096)"
            ]
          },
          "metadata": {}
        }
      ]
    },
    {
      "cell_type": "code",
      "source": [
        "green_df.to_csv('green_df.csv', index=False)\n",
        "from google.colab import files\n",
        "files.download('green_df.csv')"
      ],
      "metadata": {
        "colab": {
          "base_uri": "https://localhost:8080/",
          "height": 17
        },
        "id": "bUBp0Df05xKl",
        "outputId": "de94654b-15d9-40ff-cccd-a01ed75053fd"
      },
      "execution_count": 50,
      "outputs": [
        {
          "output_type": "display_data",
          "data": {
            "text/plain": [
              "<IPython.core.display.Javascript object>"
            ],
            "application/javascript": [
              "\n",
              "    async function download(id, filename, size) {\n",
              "      if (!google.colab.kernel.accessAllowed) {\n",
              "        return;\n",
              "      }\n",
              "      const div = document.createElement('div');\n",
              "      const label = document.createElement('label');\n",
              "      label.textContent = `Downloading \"${filename}\": `;\n",
              "      div.appendChild(label);\n",
              "      const progress = document.createElement('progress');\n",
              "      progress.max = size;\n",
              "      div.appendChild(progress);\n",
              "      document.body.appendChild(div);\n",
              "\n",
              "      const buffers = [];\n",
              "      let downloaded = 0;\n",
              "\n",
              "      const channel = await google.colab.kernel.comms.open(id);\n",
              "      // Send a message to notify the kernel that we're ready.\n",
              "      channel.send({})\n",
              "\n",
              "      for await (const message of channel.messages) {\n",
              "        // Send a message to notify the kernel that we're ready.\n",
              "        channel.send({})\n",
              "        if (message.buffers) {\n",
              "          for (const buffer of message.buffers) {\n",
              "            buffers.push(buffer);\n",
              "            downloaded += buffer.byteLength;\n",
              "            progress.value = downloaded;\n",
              "          }\n",
              "        }\n",
              "      }\n",
              "      const blob = new Blob(buffers, {type: 'application/binary'});\n",
              "      const a = document.createElement('a');\n",
              "      a.href = window.URL.createObjectURL(blob);\n",
              "      a.download = filename;\n",
              "      div.appendChild(a);\n",
              "      a.click();\n",
              "      div.remove();\n",
              "    }\n",
              "  "
            ]
          },
          "metadata": {}
        },
        {
          "output_type": "display_data",
          "data": {
            "text/plain": [
              "<IPython.core.display.Javascript object>"
            ],
            "application/javascript": [
              "download(\"download_e76b9bb5-0b82-4404-8f8d-684c70cc498b\", \"green_df.csv\", 2124274)"
            ]
          },
          "metadata": {}
        }
      ]
    },
    {
      "cell_type": "code",
      "source": [
        "sparse.save_npz('green_vectors.npz', green_vectors)\n",
        "files.download('green_vectors.npz')"
      ],
      "metadata": {
        "colab": {
          "base_uri": "https://localhost:8080/",
          "height": 17
        },
        "id": "BWNZbKEl5-n7",
        "outputId": "cfe4e0fa-8e49-4565-91da-a59dfad91573"
      },
      "execution_count": 53,
      "outputs": [
        {
          "output_type": "display_data",
          "data": {
            "text/plain": [
              "<IPython.core.display.Javascript object>"
            ],
            "application/javascript": [
              "\n",
              "    async function download(id, filename, size) {\n",
              "      if (!google.colab.kernel.accessAllowed) {\n",
              "        return;\n",
              "      }\n",
              "      const div = document.createElement('div');\n",
              "      const label = document.createElement('label');\n",
              "      label.textContent = `Downloading \"${filename}\": `;\n",
              "      div.appendChild(label);\n",
              "      const progress = document.createElement('progress');\n",
              "      progress.max = size;\n",
              "      div.appendChild(progress);\n",
              "      document.body.appendChild(div);\n",
              "\n",
              "      const buffers = [];\n",
              "      let downloaded = 0;\n",
              "\n",
              "      const channel = await google.colab.kernel.comms.open(id);\n",
              "      // Send a message to notify the kernel that we're ready.\n",
              "      channel.send({})\n",
              "\n",
              "      for await (const message of channel.messages) {\n",
              "        // Send a message to notify the kernel that we're ready.\n",
              "        channel.send({})\n",
              "        if (message.buffers) {\n",
              "          for (const buffer of message.buffers) {\n",
              "            buffers.push(buffer);\n",
              "            downloaded += buffer.byteLength;\n",
              "            progress.value = downloaded;\n",
              "          }\n",
              "        }\n",
              "      }\n",
              "      const blob = new Blob(buffers, {type: 'application/binary'});\n",
              "      const a = document.createElement('a');\n",
              "      a.href = window.URL.createObjectURL(blob);\n",
              "      a.download = filename;\n",
              "      div.appendChild(a);\n",
              "      a.click();\n",
              "      div.remove();\n",
              "    }\n",
              "  "
            ]
          },
          "metadata": {}
        },
        {
          "output_type": "display_data",
          "data": {
            "text/plain": [
              "<IPython.core.display.Javascript object>"
            ],
            "application/javascript": [
              "download(\"download_4fe36f53-a6aa-4e3d-8fc9-e42dbc4fe8c3\", \"green_vectors.npz\", 259594)"
            ]
          },
          "metadata": {}
        }
      ]
    }
  ]
}